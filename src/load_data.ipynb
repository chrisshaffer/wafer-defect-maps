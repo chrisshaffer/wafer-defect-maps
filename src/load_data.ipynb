{
 "cells": [
  {
   "cell_type": "code",
   "execution_count": 2,
   "id": "cb735d3b",
   "metadata": {},
   "outputs": [],
   "source": [
    "import pandas as pd\n",
    "import matplotlib.pyplot as plt\n",
    "import numpy as np\n",
    "import cv2\n",
    "from imblearn.over_sampling import SMOTE\n",
    "from collections import Counter"
   ]
  },
  {
   "cell_type": "code",
   "execution_count": 3,
   "id": "10dafd26",
   "metadata": {},
   "outputs": [
    {
     "name": "stdout",
     "output_type": "stream",
     "text": [
      "<class 'pandas.core.frame.DataFrame'>\n",
      "RangeIndex: 811457 entries, 0 to 811456\n",
      "Data columns (total 6 columns):\n",
      " #   Column          Non-Null Count   Dtype  \n",
      "---  ------          --------------   -----  \n",
      " 0   waferMap        811457 non-null  object \n",
      " 1   dieSize         811457 non-null  float64\n",
      " 2   lotName         811457 non-null  object \n",
      " 3   waferIndex      811457 non-null  float64\n",
      " 4   trainTestLabel  811457 non-null  object \n",
      " 5   failureType     811457 non-null  object \n",
      "dtypes: float64(2), object(4)\n",
      "memory usage: 37.1+ MB\n"
     ]
    }
   ],
   "source": [
    "# Load data into pandas df\n",
    "file_loc = '/home/chris/DSI/wafer-defect-maps/data/wm-811k/LSWMD.pkl'\n",
    "df=pd.read_pickle(file_loc)\n",
    "df = df.rename(columns={\"trianTestLabel\": \"trainTestLabel\"})\n",
    "df.info()"
   ]
  },
  {
   "cell_type": "code",
   "execution_count": 4,
   "id": "6c607c23",
   "metadata": {
    "scrolled": true
   },
   "outputs": [
    {
     "data": {
      "text/html": [
       "<div>\n",
       "<style scoped>\n",
       "    .dataframe tbody tr th:only-of-type {\n",
       "        vertical-align: middle;\n",
       "    }\n",
       "\n",
       "    .dataframe tbody tr th {\n",
       "        vertical-align: top;\n",
       "    }\n",
       "\n",
       "    .dataframe thead th {\n",
       "        text-align: right;\n",
       "    }\n",
       "</style>\n",
       "<table border=\"1\" class=\"dataframe\">\n",
       "  <thead>\n",
       "    <tr style=\"text-align: right;\">\n",
       "      <th></th>\n",
       "      <th>waferMap</th>\n",
       "      <th>dieSize</th>\n",
       "      <th>lotName</th>\n",
       "      <th>waferIndex</th>\n",
       "      <th>trainTestLabel</th>\n",
       "      <th>failureType</th>\n",
       "    </tr>\n",
       "  </thead>\n",
       "  <tbody>\n",
       "    <tr>\n",
       "      <th>0</th>\n",
       "      <td>[[0, 0, 0, 0, 0, 0, 0, 0, 0, 0, 0, 0, 0, 0, 0,...</td>\n",
       "      <td>1683.0</td>\n",
       "      <td>lot1</td>\n",
       "      <td>1.0</td>\n",
       "      <td>[[Training]]</td>\n",
       "      <td>[[none]]</td>\n",
       "    </tr>\n",
       "    <tr>\n",
       "      <th>1</th>\n",
       "      <td>[[0, 0, 0, 0, 0, 0, 0, 0, 0, 0, 0, 0, 0, 0, 0,...</td>\n",
       "      <td>1683.0</td>\n",
       "      <td>lot1</td>\n",
       "      <td>2.0</td>\n",
       "      <td>[[Training]]</td>\n",
       "      <td>[[none]]</td>\n",
       "    </tr>\n",
       "    <tr>\n",
       "      <th>2</th>\n",
       "      <td>[[0, 0, 0, 0, 0, 0, 0, 0, 0, 0, 0, 0, 0, 0, 0,...</td>\n",
       "      <td>1683.0</td>\n",
       "      <td>lot1</td>\n",
       "      <td>3.0</td>\n",
       "      <td>[[Training]]</td>\n",
       "      <td>[[none]]</td>\n",
       "    </tr>\n",
       "    <tr>\n",
       "      <th>3</th>\n",
       "      <td>[[0, 0, 0, 0, 0, 0, 0, 0, 0, 0, 0, 0, 0, 0, 0,...</td>\n",
       "      <td>1683.0</td>\n",
       "      <td>lot1</td>\n",
       "      <td>4.0</td>\n",
       "      <td>[[Training]]</td>\n",
       "      <td>[[none]]</td>\n",
       "    </tr>\n",
       "    <tr>\n",
       "      <th>4</th>\n",
       "      <td>[[0, 0, 0, 0, 0, 0, 0, 0, 0, 0, 0, 0, 0, 0, 0,...</td>\n",
       "      <td>1683.0</td>\n",
       "      <td>lot1</td>\n",
       "      <td>5.0</td>\n",
       "      <td>[[Training]]</td>\n",
       "      <td>[[none]]</td>\n",
       "    </tr>\n",
       "  </tbody>\n",
       "</table>\n",
       "</div>"
      ],
      "text/plain": [
       "                                            waferMap  dieSize lotName  \\\n",
       "0  [[0, 0, 0, 0, 0, 0, 0, 0, 0, 0, 0, 0, 0, 0, 0,...   1683.0    lot1   \n",
       "1  [[0, 0, 0, 0, 0, 0, 0, 0, 0, 0, 0, 0, 0, 0, 0,...   1683.0    lot1   \n",
       "2  [[0, 0, 0, 0, 0, 0, 0, 0, 0, 0, 0, 0, 0, 0, 0,...   1683.0    lot1   \n",
       "3  [[0, 0, 0, 0, 0, 0, 0, 0, 0, 0, 0, 0, 0, 0, 0,...   1683.0    lot1   \n",
       "4  [[0, 0, 0, 0, 0, 0, 0, 0, 0, 0, 0, 0, 0, 0, 0,...   1683.0    lot1   \n",
       "\n",
       "   waferIndex trainTestLabel failureType  \n",
       "0         1.0   [[Training]]    [[none]]  \n",
       "1         2.0   [[Training]]    [[none]]  \n",
       "2         3.0   [[Training]]    [[none]]  \n",
       "3         4.0   [[Training]]    [[none]]  \n",
       "4         5.0   [[Training]]    [[none]]  "
      ]
     },
     "execution_count": 4,
     "metadata": {},
     "output_type": "execute_result"
    }
   ],
   "source": [
    "df.head()"
   ]
  },
  {
   "cell_type": "code",
   "execution_count": 5,
   "id": "b2c6c0e8",
   "metadata": {},
   "outputs": [],
   "source": [
    "df = df.drop(columns=['dieSize', 'lotName', 'waferIndex'])"
   ]
  },
  {
   "cell_type": "code",
   "execution_count": 6,
   "id": "a7a14f2d",
   "metadata": {},
   "outputs": [
    {
     "name": "stdout",
     "output_type": "stream",
     "text": [
      "<class 'pandas.core.frame.DataFrame'>\n",
      "Int64Index: 811457 entries, 596939 to 418324\n",
      "Data columns (total 3 columns):\n",
      " #   Column          Non-Null Count   Dtype \n",
      "---  ------          --------------   ----- \n",
      " 0   waferMap        811457 non-null  object\n",
      " 1   trainTestLabel  811457 non-null  object\n",
      " 2   failureType     811457 non-null  object\n",
      "dtypes: object(3)\n",
      "memory usage: 24.8+ MB\n"
     ]
    }
   ],
   "source": [
    "df = df.sample(frac=1)\n",
    "df.info()"
   ]
  },
  {
   "cell_type": "code",
   "execution_count": 7,
   "id": "1465591d",
   "metadata": {},
   "outputs": [
    {
     "name": "stderr",
     "output_type": "stream",
     "text": [
      "/home/chris/miniconda3/lib/python3.9/site-packages/pandas/core/array_algos/replace.py:60: FutureWarning: elementwise comparison failed; returning scalar instead, but in the future will perform elementwise comparison\n",
      "  op = lambda x: operator.eq(x, b)\n"
     ]
    }
   ],
   "source": [
    "mapping_type={'Center':0,'Donut':1,'Edge-Loc':2,'Edge-Ring':3,'Loc':4,'Random':5,'Scratch':6,'Near-full':7,'none':8}\n",
    "mapping_traintest={'Training':0,'Test':1}\n",
    "df=df.replace({'failureType':mapping_type, 'trainTestLabel':mapping_traintest})\n",
    "df.head()\n",
    "entries = df.shape[0]"
   ]
  },
  {
   "cell_type": "code",
   "execution_count": 8,
   "id": "6179bf76",
   "metadata": {},
   "outputs": [],
   "source": [
    "df = df[(df.failureType >= 0) & (df.failureType <= 8)]\n",
    "labeled = df.shape[0]"
   ]
  },
  {
   "cell_type": "code",
   "execution_count": 9,
   "id": "d3548bd2",
   "metadata": {},
   "outputs": [
    {
     "name": "stdout",
     "output_type": "stream",
     "text": [
      "25519\n"
     ]
    }
   ],
   "source": [
    "df = df[df.failureType < 8]\n",
    "fail = df.shape[0]\n",
    "print(fail)"
   ]
  },
  {
   "cell_type": "code",
   "execution_count": 10,
   "id": "ff2c12f9",
   "metadata": {},
   "outputs": [
    {
     "data": {
      "image/png": "[encoded data removed]",
      "text/plain": [
       "<Figure size 432x288 with 1 Axes>"
      ]
     },
     "metadata": {
      "needs_background": "light"
     },
     "output_type": "display_data"
    }
   ],
   "source": [
    "img_dir = '/home/chris/DSI/wafer-defect-maps/img/'\n",
    "\n",
    "wafer_counts = pd.DataFrame({'Wafer Type':['Unlabeled', 'No Fail', 'Failed'], 'Count':[entries-labeled, labeled-fail, fail]})\n",
    "\n",
    "ax = wafer_counts.plot.bar(x='Wafer Type', y='Count', rot=0)\n",
    "plt.show()\n",
    "# plt.savefig('/home/chris/DSI/wafer-defect-maps' + 'label_fail_dist.png')"
   ]
  },
  {
   "cell_type": "code",
   "execution_count": 44,
   "id": "b305a99d",
   "metadata": {},
   "outputs": [],
   "source": [
    "train = df[df.trainTestLabel == 0]\n",
    "test = df[df.trainTestLabel == 1]\n",
    "\n",
    "X = train['waferMap'].values\n",
    "y = train['failureType']"
   ]
  },
  {
   "cell_type": "code",
   "execution_count": 45,
   "id": "d7bae349",
   "metadata": {},
   "outputs": [
    {
     "data": {
      "text/plain": [
       "(17625,)"
      ]
     },
     "execution_count": 45,
     "metadata": {},
     "output_type": "execute_result"
    }
   ],
   "source": [
    "y.shape"
   ]
  },
  {
   "cell_type": "code",
   "execution_count": 59,
   "id": "739a51c6",
   "metadata": {},
   "outputs": [
    {
     "data": {
      "text/plain": [
       "21042     3\n",
       "407209    2\n",
       "300582    3\n",
       "221245    3\n",
       "422836    3\n",
       "         ..\n",
       "786119    3\n",
       "350404    3\n",
       "591919    0\n",
       "634386    4\n",
       "697906    2\n",
       "Name: failureType, Length: 17625, dtype: object"
      ]
     },
     "execution_count": 59,
     "metadata": {},
     "output_type": "execute_result"
    }
   ],
   "source": [
    "y"
   ]
  },
  {
   "cell_type": "code",
   "execution_count": 46,
   "id": "4f194852",
   "metadata": {},
   "outputs": [
    {
     "data": {
      "text/plain": [
       "(17625,)"
      ]
     },
     "execution_count": 46,
     "metadata": {},
     "output_type": "execute_result"
    }
   ],
   "source": [
    "X.shape"
   ]
  },
  {
   "cell_type": "code",
   "execution_count": 47,
   "id": "266ad7f0",
   "metadata": {},
   "outputs": [
    {
     "data": {
      "text/plain": [
       "failureType\n",
       "0    3462\n",
       "1     409\n",
       "2    2417\n",
       "3    8554\n",
       "4    1620\n",
       "5     609\n",
       "6     500\n",
       "7      54\n",
       "dtype: int64"
      ]
     },
     "execution_count": 47,
     "metadata": {},
     "output_type": "execute_result"
    }
   ],
   "source": [
    "type_grouped = train.groupby(by='failureType').size()\n",
    "type_grouped_test = test.groupby(by='failureType').size()\n",
    "\n",
    "type_grouped"
   ]
  },
  {
   "cell_type": "code",
   "execution_count": 48,
   "id": "26bb4a25",
   "metadata": {},
   "outputs": [
    {
     "data": {
      "text/plain": [
       "failureType\n",
       "0    0.196426\n",
       "1    0.023206\n",
       "2    0.137135\n",
       "3    0.485333\n",
       "4    0.091915\n",
       "5    0.034553\n",
       "6    0.028369\n",
       "7    0.003064\n",
       "dtype: float64"
      ]
     },
     "execution_count": 48,
     "metadata": {},
     "output_type": "execute_result"
    }
   ],
   "source": [
    "type_grouped/y.shape[0]"
   ]
  },
  {
   "cell_type": "code",
   "execution_count": 49,
   "id": "99c9f211",
   "metadata": {},
   "outputs": [
    {
     "data": {
      "image/png": "[encoded data removed]",
      "text/plain": [
       "<Figure size 720x288 with 1 Axes>"
      ]
     },
     "metadata": {
      "needs_background": "light"
     },
     "output_type": "display_data"
    }
   ],
   "source": [
    "types = ['Center','Donut','Edge-Loc','Edge-Ring','Loc','Random','Scratch','Near-full']\n",
    "fig,ax = plt.subplots(figsize = (10,4))\n",
    "ax.bar(types,type_grouped)\n",
    "ax.set_ylabel('Count')\n",
    "ax.set_xlabel('Failure Types')\n",
    "plt.show()\n",
    "# plt.savefig('/home/chris/DSI/wafer-defect-maps' + 'fail_type_dist.png')"
   ]
  },
  {
   "cell_type": "code",
   "execution_count": 50,
   "id": "b894e3a0",
   "metadata": {},
   "outputs": [
    {
     "data": {
      "image/png": "[encoded data removed]",
      "text/plain": [
       "<Figure size 720x288 with 1 Axes>"
      ]
     },
     "metadata": {
      "needs_background": "light"
     },
     "output_type": "display_data"
    }
   ],
   "source": [
    "fig,ax = plt.subplots(figsize = (10,4))\n",
    "ax.bar(types,type_grouped_test,color='r')\n",
    "ax.set_ylabel('Count')\n",
    "ax.set_xlabel('Failure Types')\n",
    "ax.set_title('Test Data')\n",
    "plt.show()\n",
    "# plt.savefig('/home/chris/DSI/wafer-defect-maps' + 'fail_type_dist.png')"
   ]
  },
  {
   "cell_type": "code",
   "execution_count": 51,
   "id": "319a7c5a",
   "metadata": {},
   "outputs": [
    {
     "data": {
      "image/png": "[encoded data removed]",
      "text/plain": [
       "<Figure size 648x648 with 8 Axes>"
      ]
     },
     "metadata": {
      "needs_background": "light"
     },
     "output_type": "display_data"
    }
   ],
   "source": [
    "fig,axs = plt.subplots(2,4,figsize = (9,9))\n",
    "\n",
    "for i in range(8):\n",
    "    image = train[train.failureType == i].iloc[0,0]\n",
    "    ax = axs[i//4][i%4]\n",
    "    ax.imshow(image)\n",
    "    ax.set_title(types[i])\n",
    "\n",
    "fig.tight_layout()\n",
    "plt.show()\n",
    "# plt.savefig('/home/chris/DSI/wafer-defect-maps' + 'type_example_images.png')"
   ]
  },
  {
   "cell_type": "code",
   "execution_count": 52,
   "id": "757978da",
   "metadata": {},
   "outputs": [
    {
     "data": {
      "text/plain": [
       "(38, 36)"
      ]
     },
     "execution_count": 52,
     "metadata": {},
     "output_type": "execute_result"
    }
   ],
   "source": [
    "img_test = X[0]\n",
    "img_test.shape"
   ]
  },
  {
   "cell_type": "code",
   "execution_count": 53,
   "id": "c5e5a6cb",
   "metadata": {},
   "outputs": [],
   "source": [
    "X_resize = np.array([cv2.resize(img, dsize=(24,24)) for img in X])"
   ]
  },
  {
   "cell_type": "code",
   "execution_count": 54,
   "id": "b9b230bb",
   "metadata": {},
   "outputs": [
    {
     "data": {
      "text/plain": [
       "<matplotlib.image.AxesImage at 0x7f8f9ddc90a0>"
      ]
     },
     "execution_count": 54,
     "metadata": {},
     "output_type": "execute_result"
    },
    {
     "data": {
      "image/png": "[encoded data removed]",
      "text/plain": [
       "<Figure size 432x288 with 1 Axes>"
      ]
     },
     "metadata": {
      "needs_background": "light"
     },
     "output_type": "display_data"
    }
   ],
   "source": [
    "plt.imshow(X_resize[6])"
   ]
  },
  {
   "cell_type": "code",
   "execution_count": 55,
   "id": "ca95f11e",
   "metadata": {},
   "outputs": [
    {
     "data": {
      "text/plain": [
       "(17625, 24, 24)"
      ]
     },
     "execution_count": 55,
     "metadata": {},
     "output_type": "execute_result"
    }
   ],
   "source": [
    "X_resize.shape"
   ]
  },
  {
   "cell_type": "code",
   "execution_count": 56,
   "id": "fe0ab9f9",
   "metadata": {},
   "outputs": [
    {
     "name": "stdout",
     "output_type": "stream",
     "text": [
      "Class=3, n=8554 (12.500%)\n",
      "Class=2, n=8554 (12.500%)\n",
      "Class=4, n=8554 (12.500%)\n",
      "Class=0, n=8554 (12.500%)\n",
      "Class=6, n=8554 (12.500%)\n",
      "Class=1, n=8554 (12.500%)\n",
      "Class=5, n=8554 (12.500%)\n",
      "Class=7, n=8554 (12.500%)\n"
     ]
    },
    {
     "data": {
      "image/png": "[encoded data removed]",
      "text/plain": [
       "<Figure size 432x288 with 1 Axes>"
      ]
     },
     "metadata": {
      "needs_background": "light"
     },
     "output_type": "display_data"
    }
   ],
   "source": [
    "from sklearn.preprocessing import LabelEncoder\n",
    "y_sm = LabelEncoder().fit_transform(y)\n",
    "X_sm_reshape = X_resize.reshape(X_resize.shape[0],24*24)\n",
    "# transform the dataset\n",
    "oversample = SMOTE()\n",
    "X_os, y_os = oversample.fit_resample(X_sm_reshape, y_sm)\n",
    "# summarize distribution\n",
    "counter = Counter(y_os)\n",
    "for k,v in counter.items():\n",
    "    per = v / len(y_os) * 100\n",
    "    print('Class=%d, n=%d (%.3f%%)' % (k, v, per))\n",
    "# plot the distribution\n",
    "plt.bar(counter.keys(), counter.values())\n",
    "plt.show()"
   ]
  },
  {
   "cell_type": "code",
   "execution_count": 57,
   "id": "06588c0c",
   "metadata": {},
   "outputs": [
    {
     "data": {
      "text/plain": [
       "(17625, 24, 24, 1)"
      ]
     },
     "execution_count": 57,
     "metadata": {},
     "output_type": "execute_result"
    }
   ],
   "source": [
    "# shape change for tensorflow calculation\n",
    "X_tf = X_resize.reshape(X_resize.shape[0], 24, 24, 1).astype('float32')\n",
    "X_tf.shape"
   ]
  },
  {
   "cell_type": "code",
   "execution_count": 58,
   "id": "b4c24c87",
   "metadata": {},
   "outputs": [
    {
     "data": {
      "text/plain": [
       "array([3, 2, 3, ..., 7, 7, 7])"
      ]
     },
     "execution_count": 58,
     "metadata": {},
     "output_type": "execute_result"
    }
   ],
   "source": [
    "y_os"
   ]
  }
 ],
 "metadata": {
  "kernelspec": {
   "display_name": "Python 3.9.1 64-bit ('base': conda)",
   "language": "python",
   "name": "python391jvsc74a57bd0b6514bc0d4f53b0f2587f3676c8605d39339b942f2cc28ce55a0b87701275da9"
  },
  "language_info": {
   "codemirror_mode": {
    "name": "ipython",
    "version": 3
   },
   "file_extension": ".py",
   "mimetype": "text/x-python",
   "name": "python",
   "nbconvert_exporter": "python",
   "pygments_lexer": "ipython3",
   "version": "3.9.1"
  }
 },
 "nbformat": 4,
 "nbformat_minor": 5
}
